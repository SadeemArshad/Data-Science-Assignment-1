{
 "cells": [
  {
   "cell_type": "code",
   "execution_count": 1,
   "id": "12f288b9",
   "metadata": {},
   "outputs": [
    {
     "name": "stdout",
     "output_type": "stream",
     "text": [
      "Twinkle,twinkle,little star,  \n",
      "        How i wonder what you are! \n",
      "                Up above the world so high, \n",
      "                like a diamond in the sky. \n",
      " Twinkle,twinkle,little star, \n",
      "         How I wonder what you are\n"
     ]
    }
   ],
   "source": [
    "# 1. Write a Python program to print the following string in a specific format.\n",
    "\n",
    "print(\"Twinkle,twinkle,little star,  \\n        How i wonder what you are! \\n                Up above the world so high, \\n                like a diamond in the sky. \\n Twinkle,twinkle,little star, \\n         How I wonder what you are\")"
   ]
  },
  {
   "cell_type": "code",
   "execution_count": 2,
   "id": "bc6ed17b",
   "metadata": {},
   "outputs": [
    {
     "name": "stdout",
     "output_type": "stream",
     "text": [
      "python version\n",
      "3.8.8 (default, Apr 13 2021, 15:08:03) [MSC v.1916 64 bit (AMD64)]\n",
      "version info.\n",
      "sys.version_info(major=3, minor=8, micro=8, releaselevel='final', serial=0)\n"
     ]
    }
   ],
   "source": [
    "# 2. Write a Python program to get the Python version you are using.\n",
    "\n",
    "import sys\n",
    "print(\"python version\")\n",
    "print(sys.version)\n",
    "print(\"version info.\")\n",
    "print(sys.version_info)"
   ]
  },
  {
   "cell_type": "code",
   "execution_count": 3,
   "id": "28ee8d1b",
   "metadata": {},
   "outputs": [
    {
     "name": "stdout",
     "output_type": "stream",
     "text": [
      "current date and time is:\n",
      "22-01-01 10:19:24\n"
     ]
    }
   ],
   "source": [
    "# 3. Write a Python program to display the current date and time.\n",
    "import datetime\n",
    "now = datetime.datetime.now()\n",
    "print(\"current date and time is:\")\n",
    "print(now.strftime(\"%y-%m-%d %H:%M:%S\"))"
   ]
  },
  {
   "cell_type": "code",
   "execution_count": 4,
   "id": "7a068403",
   "metadata": {},
   "outputs": [
    {
     "name": "stdout",
     "output_type": "stream",
     "text": [
      "enter radius of circle 2\n",
      "Area of circle is 12.56\n"
     ]
    }
   ],
   "source": [
    "# 4. Write a Python program which accepts the radius of a circle from the user and compute the area.\n",
    "r = int(input(\"enter radius of circle \"))\n",
    "a = 3.14 * r ** 2\n",
    "print(\"Area of circle is\",a)"
   ]
  },
  {
   "cell_type": "code",
   "execution_count": 5,
   "id": "b7958df3",
   "metadata": {},
   "outputs": [
    {
     "name": "stdout",
     "output_type": "stream",
     "text": [
      "Enter first name Sadeem\n",
      "Enter last name Arshad\n",
      "Arshad Sadeem\n"
     ]
    }
   ],
   "source": [
    "\"\"\" 5. Write a Python program which accepts the user's first and last name and print them in\n",
    "reverse order with a space between them\"\"\"\n",
    "\n",
    "name1 = input(\"Enter first name \")\n",
    "name2 = input(\"Enter last name \");\n",
    "print( name2 , name1 )"
   ]
  },
  {
   "cell_type": "code",
   "execution_count": 6,
   "id": "7a38a736",
   "metadata": {},
   "outputs": [
    {
     "name": "stdout",
     "output_type": "stream",
     "text": [
      "price of shoes 2200\n",
      "price of clothes 5000\n",
      "total is 7200\n"
     ]
    }
   ],
   "source": [
    "# 6. Write a python program which takes two inputs from user and print them addition.\n",
    "\n",
    "a = int(input(\"price of shoes \"))\n",
    "b = int(input(\"price of clothes \"))\n",
    "print(\"total is\",a + b)"
   ]
  },
  {
   "cell_type": "code",
   "execution_count": null,
   "id": "4fbde171",
   "metadata": {},
   "outputs": [],
   "source": []
  }
 ],
 "metadata": {
  "kernelspec": {
   "display_name": "Python 3",
   "language": "python",
   "name": "python3"
  },
  "language_info": {
   "codemirror_mode": {
    "name": "ipython",
    "version": 3
   },
   "file_extension": ".py",
   "mimetype": "text/x-python",
   "name": "python",
   "nbconvert_exporter": "python",
   "pygments_lexer": "ipython3",
   "version": "3.8.8"
  }
 },
 "nbformat": 4,
 "nbformat_minor": 5
}
